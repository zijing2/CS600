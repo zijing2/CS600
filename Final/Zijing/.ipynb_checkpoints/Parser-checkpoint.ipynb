{
 "cells": [
  {
   "cell_type": "code",
   "execution_count": 74,
   "metadata": {},
   "outputs": [
    {
     "name": "stdout",
     "output_type": "stream",
     "text": [
      "http://zijing.us/lab/contact\n",
      "modern\n",
      "business\n",
      "start\n",
      "bootstrap\n",
      "template\n",
      "toggle\n",
      "navigation\n",
      "zijing\n",
      "lab\n",
      "home\n",
      "labs\n",
      "blog\n",
      "contact\n",
      "contact\n",
      "subheading\n",
      "home\n",
      "contact\n",
      "contact\n",
      "details\n",
      "pavonia\n",
      "avejersey\n",
      "city\n",
      "736-5027\n",
      "hzj_huangzijing\n",
      "hotmail.com\n",
      "monday\n",
      "friday\n",
      "9:00\n",
      "5:00\n",
      "send\n",
      "message\n",
      "full\n",
      "name\n",
      "phone\n",
      "number\n",
      "email\n",
      "address\n",
      "message\n",
      "send\n",
      "message\n",
      "copyright\n",
      "zijing.us\n"
     ]
    }
   ],
   "source": [
    "from bs4 import BeautifulSoup  \n",
    "import json\n",
    "import nltk\n",
    "from nltk.corpus import stopwords\n",
    "from nltk.tokenize import word_tokenize\n",
    "import string\n",
    "\n",
    "MINIMUM_CHR = 2\n",
    "\n",
    "f = open(\"file_link_map.json\", \"r\") \n",
    "file_link_map = json.loads(f.readlines()[0]) \n",
    "\n",
    "# filter stopword and punctuation\n",
    "stop_words = set(stopwords.words('english'))\n",
    "stop_words.update(string.punctuation)\n",
    "\n",
    "for filename in file_link_map:\n",
    "    f = open(filename)\n",
    "    soup = BeautifulSoup(f.read(), 'html.parser')\n",
    "    [script.extract() for script in soup.findAll('script')]\n",
    "    [style.extract() for style in soup.findAll('style')]\n",
    "    print file_link_map[filename]\n",
    "    words = word_tokenize(soup.get_text())\n",
    "    for word in words:\n",
    "        if word.lower() not in stop_words and len(word) > MINIMUM_CHR and word.isdigit()==False:\n",
    "                # build compressed trie tree\n",
    "                \n",
    "                print word.lower().strip()\n",
    "        \n",
    "    break\n",
    "f.close()"
   ]
  },
  {
   "cell_type": "code",
   "execution_count": null,
   "metadata": {
    "collapsed": true
   },
   "outputs": [],
   "source": []
  },
  {
   "cell_type": "code",
   "execution_count": null,
   "metadata": {
    "collapsed": true
   },
   "outputs": [],
   "source": []
  }
 ],
 "metadata": {
  "kernelspec": {
   "display_name": "Python 2",
   "language": "python",
   "name": "python2"
  },
  "language_info": {
   "codemirror_mode": {
    "name": "ipython",
    "version": 2
   },
   "file_extension": ".py",
   "mimetype": "text/x-python",
   "name": "python",
   "nbconvert_exporter": "python",
   "pygments_lexer": "ipython2",
   "version": "2.7.13"
  }
 },
 "nbformat": 4,
 "nbformat_minor": 2
}
