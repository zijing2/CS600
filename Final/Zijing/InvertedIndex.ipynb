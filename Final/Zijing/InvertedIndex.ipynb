{
 "cells": [
  {
   "cell_type": "code",
   "execution_count": 1,
   "metadata": {
    "collapsed": true
   },
   "outputs": [],
   "source": [
    "from Tries import Tries\n",
    "\n",
    "# implement a dictionary, storing key-value pairs (w, L) \n",
    "# where w is a word and L is a collection of references to pages containing word w.\n",
    "class InvertedIndex(object):\n",
    "    \n",
    "    tries = Tries()\n",
    "    occurence_list = []\n",
    "    \n",
    "    # get a collection of references to pages containing word w by sending a word\n",
    "    def get(self, key):\n",
    "        ref = self.tries.getRefByWord(key)\n",
    "        if ref > 0 and ref < len(self.occurence_list):\n",
    "            return self.occurence_list[ref]\n",
    "        else:\n",
    "            return None\n",
    "    \n",
    "    # put a collection of references to pages containing word w mapping with a word\n",
    "    def put(self, key, value):\n",
    "        occurence_collection = self.get(key)\n",
    "        if(occurence_collection == None):\n",
    "            self.occurence_list.append({\"key\": key, value: 1})\n",
    "            ref = len(self.occurence_list)-1\n",
    "            self.tries.insert(key, ref)\n",
    "        else:\n",
    "            if occurence_collection.has_key(value):\n",
    "                occurence_collection[value] = occurence_collection[value]+1\n",
    "            else:\n",
    "                occurence_collection[value] = 1\n",
    "        return \n",
    "    \n",
    "    # get the recommend keys when key in charactors\n",
    "    def getRecommendKey(self, string):\n",
    "        return self.tries.getRecommendKey(string)\n",
    "        \n",
    "\n",
    "            \n",
    "            "
   ]
  },
  {
   "cell_type": "code",
   "execution_count": null,
   "metadata": {
    "collapsed": true
   },
   "outputs": [],
   "source": []
  }
 ],
 "metadata": {
  "kernelspec": {
   "display_name": "Python 2",
   "language": "python",
   "name": "python2"
  },
  "language_info": {
   "codemirror_mode": {
    "name": "ipython",
    "version": 2
   },
   "file_extension": ".py",
   "mimetype": "text/x-python",
   "name": "python",
   "nbconvert_exporter": "python",
   "pygments_lexer": "ipython2",
   "version": "2.7.13"
  }
 },
 "nbformat": 4,
 "nbformat_minor": 2
}
