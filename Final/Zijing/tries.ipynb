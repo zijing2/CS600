{
 "cells": [
  {
   "cell_type": "code",
   "execution_count": 68,
   "metadata": {},
   "outputs": [
    {
     "ename": "IndentationError",
     "evalue": "expected an indented block (<ipython-input-68-82657af9cd05>, line 32)",
     "output_type": "error",
     "traceback": [
      "\u001b[0;36m  File \u001b[0;32m\"<ipython-input-68-82657af9cd05>\"\u001b[0;36m, line \u001b[0;32m32\u001b[0m\n\u001b[0;31m    def getRefByWord(self, word):\u001b[0m\n\u001b[0m    ^\u001b[0m\n\u001b[0;31mIndentationError\u001b[0m\u001b[0;31m:\u001b[0m expected an indented block\n"
     ]
    }
   ],
   "source": [
    "class TreeNode():\n",
    "    children = {}\n",
    "    hit_num = 0\n",
    "    # key in the node\n",
    "    key = None\n",
    "    # a reference to the matching occurrence lists\n",
    "    ref = None\n",
    "    \n",
    "    def __init__(self):\n",
    "        self.children = {}\n",
    "\n",
    "class Tries(object):\n",
    "    \n",
    "    root = TreeNode()\n",
    "    \n",
    "    def insert(self, word, ref):\n",
    "        current = self.root\n",
    "        if len(word)==0:\n",
    "            return\n",
    "        for i,c in enumerate(word):\n",
    "            if current.children.has_key(c):\n",
    "                current = current.children[c]\n",
    "            else:\n",
    "                newNode = TreeNode()\n",
    "                newNode.key = c\n",
    "                current.children[c] = newNode\n",
    "                current = current.children[c]\n",
    "        \n",
    "        if current.ref == None:\n",
    "            current.ref = ref\n",
    "        return \n",
    "                    \n",
    "            \n",
    "    def getRefByWord(self, word):\n",
    "        current = self.root\n",
    "        if len(word)==0:\n",
    "            return None\n",
    "        for i,c in enumerate(word):\n",
    "            if current.children.has_key(c):\n",
    "                current = current.children[c]\n",
    "                if i == len(word)-1:\n",
    "                    return current.ref\n",
    "            # no matching word\n",
    "            else:\n",
    "                return None\n",
    "            \n",
    "\n",
    "    \n",
    "    \n",
    "# tries = Tries()\n",
    "\n",
    "\n",
    "# tries.insert(word=\"abcd\")\n",
    "# tries.insert(word=\"acde\")\n",
    "# print Tries.root.children['a'].children['b'].hit_num\n",
    "# print Tries.root.children\n",
    "\n",
    "    \n",
    "\n",
    "\n",
    "\n",
    "\n",
    "    "
   ]
  },
  {
   "cell_type": "code",
   "execution_count": null,
   "metadata": {
    "collapsed": true
   },
   "outputs": [],
   "source": []
  }
 ],
 "metadata": {
  "kernelspec": {
   "display_name": "Python 2",
   "language": "python",
   "name": "python2"
  },
  "language_info": {
   "codemirror_mode": {
    "name": "ipython",
    "version": 2
   },
   "file_extension": ".py",
   "mimetype": "text/x-python",
   "name": "python",
   "nbconvert_exporter": "python",
   "pygments_lexer": "ipython2",
   "version": "2.7.13"
  }
 },
 "nbformat": 4,
 "nbformat_minor": 2
}
